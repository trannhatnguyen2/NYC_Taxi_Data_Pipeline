{
 "cells": [
  {
   "cell_type": "code",
   "execution_count": 1,
   "metadata": {},
   "outputs": [],
   "source": [
    "import great_expectations as gx\n",
    "from great_expectations.checkpoint import Checkpoint\n",
    "\n",
    "# Create a DataContext as an entry point to the GX Python API\n",
    "context = gx.get_context()"
   ]
  },
  {
   "cell_type": "code",
   "execution_count": 2,
   "metadata": {},
   "outputs": [],
   "source": [
    "context.delete_datasource(\"nyctaxi\")"
   ]
  },
  {
   "cell_type": "code",
   "execution_count": 3,
   "metadata": {},
   "outputs": [],
   "source": [
    "datasource_name = \"nyctaxi\"\n",
    "my_connection_string = (\n",
    "    \"postgresql+psycopg2://k6:k6@localhost:5432/k6\"\n",
    ")\n",
    "\n",
    "pg_datasource = context.sources.add_postgres(\n",
    "    name=datasource_name, connection_string=my_connection_string\n",
    ")"
   ]
  },
  {
   "cell_type": "code",
   "execution_count": 4,
   "metadata": {},
   "outputs": [
    {
     "data": {
      "text/plain": [
       "TableAsset(name='postgres_taxi_data', type='table', id=None, order_by=[], batch_metadata={}, splitter=None, table_name='nyc_taxi', schema_name='staging')"
      ]
     },
     "execution_count": 4,
     "metadata": {},
     "output_type": "execute_result"
    }
   ],
   "source": [
    "pg_datasource.add_table_asset(\n",
    "    name=\"postgres_taxi_data\", table_name=\"nyc_taxi\", schema_name=\"staging\"\n",
    ")"
   ]
  },
  {
   "cell_type": "code",
   "execution_count": 5,
   "metadata": {},
   "outputs": [],
   "source": [
    "batch_request = pg_datasource.get_asset(\"postgres_taxi_data\").build_batch_request()"
   ]
  },
  {
   "cell_type": "code",
   "execution_count": 6,
   "metadata": {},
   "outputs": [
    {
     "data": {
      "text/plain": [
       "{\n",
       "  \"expectation_suite_name\": \"validate_trip_data\",\n",
       "  \"ge_cloud_id\": null,\n",
       "  \"expectations\": [],\n",
       "  \"data_asset_type\": null,\n",
       "  \"meta\": {\n",
       "    \"great_expectations_version\": \"0.18.19\"\n",
       "  }\n",
       "}"
      ]
     },
     "execution_count": 6,
     "metadata": {},
     "output_type": "execute_result"
    }
   ],
   "source": [
    "expectation_suite_name = \"validate_trip_data\"\n",
    "context.add_or_update_expectation_suite(expectation_suite_name=expectation_suite_name)"
   ]
  },
  {
   "cell_type": "code",
   "execution_count": 7,
   "metadata": {},
   "outputs": [
    {
     "data": {
      "application/vnd.jupyter.widget-view+json": {
       "model_id": "6a4c2960b07641b688c71f1c0ee6417a",
       "version_major": 2,
       "version_minor": 0
      },
      "text/plain": [
       "Calculating Metrics:   0%|          | 0/1 [00:00<?, ?it/s]"
      ]
     },
     "metadata": {},
     "output_type": "display_data"
    },
    {
     "name": "stderr",
     "output_type": "stream",
     "text": [
      "Exceptions\n",
      "{('table.head', 'batch_id=nyctaxi-postgres_taxi_data', '04166707abe073177c1dd922d3584468'): {'metric_configuration': {\n",
      "  \"metric_name\": \"table.head\",\n",
      "  \"metric_domain_kwargs\": {\n",
      "    \"batch_id\": \"nyctaxi-postgres_taxi_data\"\n",
      "  },\n",
      "  \"metric_domain_kwargs_id\": \"batch_id=nyctaxi-postgres_taxi_data\",\n",
      "  \"metric_value_kwargs\": {\n",
      "    \"n_rows\": 5,\n",
      "    \"fetch_all\": false\n",
      "  },\n",
      "  \"metric_value_kwargs_id\": \"04166707abe073177c1dd922d3584468\",\n",
      "  \"id\": [\n",
      "    \"table.head\",\n",
      "    \"batch_id=nyctaxi-postgres_taxi_data\",\n",
      "    \"04166707abe073177c1dd922d3584468\"\n",
      "  ]\n",
      "}, 'num_failures': 3, 'exception_info': {'exception_traceback': 'Traceback (most recent call last):\\n  File \"/home/oriel/Documents/repos/oristides/NYC_Taxi_Data_Pipeline/.venv/lib/python3.12/site-packages/great_expectations/execution_engine/execution_engine.py\", line 548, in _process_direct_and_bundled_metric_computation_configurations\\n    ] = metric_computation_configuration.metric_fn(  # type: ignore[misc] # F not callable\\n        ^^^^^^^^^^^^^^^^^^^^^^^^^^^^^^^^^^^^^^^^^^^^^^^^^^^^^^^^^^^^^^^^^^^^^^^^^^^^^^^^^^\\n  File \"/home/oriel/Documents/repos/oristides/NYC_Taxi_Data_Pipeline/.venv/lib/python3.12/site-packages/great_expectations/expectations/metrics/metric_provider.py\", line 60, in inner_func\\n    return metric_fn(*args, **kwargs)\\n           ^^^^^^^^^^^^^^^^^^^^^^^^^^\\n  File \"/home/oriel/Documents/repos/oristides/NYC_Taxi_Data_Pipeline/.venv/lib/python3.12/site-packages/great_expectations/expectations/metrics/table_metrics/table_head.py\", line 82, in _sqlalchemy\\n    df = pandas_read_sql(\\n         ^^^^^^^^^^^^^^^^\\n  File \"/home/oriel/Documents/repos/oristides/NYC_Taxi_Data_Pipeline/.venv/lib/python3.12/site-packages/great_expectations/compatibility/sqlalchemy_and_pandas.py\", line 83, in pandas_read_sql\\n    return_value = pd.read_sql(sql=sql, con=con, **kwargs)\\n                   ^^^^^^^^^^^^^^^^^^^^^^^^^^^^^^^^^^^^^^^\\n  File \"/home/oriel/Documents/repos/oristides/NYC_Taxi_Data_Pipeline/.venv/lib/python3.12/site-packages/pandas/io/sql.py\", line 706, in read_sql\\n    return pandas_sql.read_query(\\n           ^^^^^^^^^^^^^^^^^^^^^^\\n  File \"/home/oriel/Documents/repos/oristides/NYC_Taxi_Data_Pipeline/.venv/lib/python3.12/site-packages/pandas/io/sql.py\", line 2738, in read_query\\n    cursor = self.execute(sql, params)\\n             ^^^^^^^^^^^^^^^^^^^^^^^^^\\n  File \"/home/oriel/Documents/repos/oristides/NYC_Taxi_Data_Pipeline/.venv/lib/python3.12/site-packages/pandas/io/sql.py\", line 2670, in execute\\n    raise TypeError(\"Query must be a string unless using sqlalchemy.\")\\nTypeError: Query must be a string unless using sqlalchemy.\\n\\nThe above exception was the direct cause of the following exception:\\n\\nTraceback (most recent call last):\\n  File \"/home/oriel/Documents/repos/oristides/NYC_Taxi_Data_Pipeline/.venv/lib/python3.12/site-packages/great_expectations/validator/validation_graph.py\", line 269, in _resolve\\n    self._execution_engine.resolve_metrics(\\n  File \"/home/oriel/Documents/repos/oristides/NYC_Taxi_Data_Pipeline/.venv/lib/python3.12/site-packages/great_expectations/execution_engine/execution_engine.py\", line 283, in resolve_metrics\\n    return self._process_direct_and_bundled_metric_computation_configurations(\\n           ^^^^^^^^^^^^^^^^^^^^^^^^^^^^^^^^^^^^^^^^^^^^^^^^^^^^^^^^^^^^^^^^^^^\\n  File \"/home/oriel/Documents/repos/oristides/NYC_Taxi_Data_Pipeline/.venv/lib/python3.12/site-packages/great_expectations/execution_engine/execution_engine.py\", line 552, in _process_direct_and_bundled_metric_computation_configurations\\n    raise gx_exceptions.MetricResolutionError(\\ngreat_expectations.exceptions.exceptions.MetricResolutionError: Query must be a string unless using sqlalchemy.\\n', 'exception_message': 'Query must be a string unless using sqlalchemy.', 'raised_exception': True}}}\n",
      "occurred while resolving metrics.\n"
     ]
    },
    {
     "ename": "KeyError",
     "evalue": "('table.head', 'batch_id=nyctaxi-postgres_taxi_data', '04166707abe073177c1dd922d3584468')",
     "output_type": "error",
     "traceback": [
      "\u001b[0;31m---------------------------------------------------------------------------\u001b[0m",
      "\u001b[0;31mKeyError\u001b[0m                                  Traceback (most recent call last)",
      "Cell \u001b[0;32mIn[7], line 6\u001b[0m\n\u001b[1;32m      1\u001b[0m validator \u001b[38;5;241m=\u001b[39m context\u001b[38;5;241m.\u001b[39mget_validator(\n\u001b[1;32m      2\u001b[0m     batch_request\u001b[38;5;241m=\u001b[39mbatch_request,\n\u001b[1;32m      3\u001b[0m     expectation_suite_name\u001b[38;5;241m=\u001b[39mexpectation_suite_name,\n\u001b[1;32m      4\u001b[0m )\n\u001b[0;32m----> 6\u001b[0m \u001b[38;5;28mprint\u001b[39m(\u001b[43mvalidator\u001b[49m\u001b[38;5;241;43m.\u001b[39;49m\u001b[43mhead\u001b[49m\u001b[43m(\u001b[49m\u001b[43m)\u001b[49m)\n",
      "File \u001b[0;32m~/Documents/repos/oristides/NYC_Taxi_Data_Pipeline/.venv/lib/python3.12/site-packages/great_expectations/validator/validator.py:402\u001b[0m, in \u001b[0;36mValidator.head\u001b[0;34m(self, n_rows, domain_kwargs, fetch_all)\u001b[0m\n\u001b[1;32m    385\u001b[0m \u001b[38;5;129m@public_api\u001b[39m\n\u001b[1;32m    386\u001b[0m \u001b[38;5;28;01mdef\u001b[39;00m \u001b[38;5;21mhead\u001b[39m(\n\u001b[1;32m    387\u001b[0m     \u001b[38;5;28mself\u001b[39m,\n\u001b[0;32m   (...)\u001b[0m\n\u001b[1;32m    390\u001b[0m     fetch_all: \u001b[38;5;28mbool\u001b[39m \u001b[38;5;241m=\u001b[39m \u001b[38;5;28;01mFalse\u001b[39;00m,\n\u001b[1;32m    391\u001b[0m ) \u001b[38;5;241m-\u001b[39m\u001b[38;5;241m>\u001b[39m pd\u001b[38;5;241m.\u001b[39mDataFrame:\n\u001b[1;32m    392\u001b[0m \u001b[38;5;250m    \u001b[39m\u001b[38;5;124;03m\"\"\"Convenience method to return the first several rows or records from a Batch of data.\u001b[39;00m\n\u001b[1;32m    393\u001b[0m \n\u001b[1;32m    394\u001b[0m \u001b[38;5;124;03m    Args:\u001b[39;00m\n\u001b[0;32m   (...)\u001b[0m\n\u001b[1;32m    400\u001b[0m \u001b[38;5;124;03m        A Pandas DataFrame containing the records' data.\u001b[39;00m\n\u001b[1;32m    401\u001b[0m \u001b[38;5;124;03m    \"\"\"\u001b[39;00m\n\u001b[0;32m--> 402\u001b[0m     \u001b[38;5;28;01mreturn\u001b[39;00m \u001b[38;5;28;43mself\u001b[39;49m\u001b[38;5;241;43m.\u001b[39;49m\u001b[43m_metrics_calculator\u001b[49m\u001b[38;5;241;43m.\u001b[39;49m\u001b[43mhead\u001b[49m\u001b[43m(\u001b[49m\n\u001b[1;32m    403\u001b[0m \u001b[43m        \u001b[49m\u001b[43mn_rows\u001b[49m\u001b[38;5;241;43m=\u001b[39;49m\u001b[43mn_rows\u001b[49m\u001b[43m,\u001b[49m\u001b[43m \u001b[49m\u001b[43mdomain_kwargs\u001b[49m\u001b[38;5;241;43m=\u001b[39;49m\u001b[43mdomain_kwargs\u001b[49m\u001b[43m,\u001b[49m\u001b[43m \u001b[49m\u001b[43mfetch_all\u001b[49m\u001b[38;5;241;43m=\u001b[39;49m\u001b[43mfetch_all\u001b[49m\n\u001b[1;32m    404\u001b[0m \u001b[43m    \u001b[49m\u001b[43m)\u001b[49m\n",
      "File \u001b[0;32m~/Documents/repos/oristides/NYC_Taxi_Data_Pipeline/.venv/lib/python3.12/site-packages/great_expectations/validator/metrics_calculator.py:108\u001b[0m, in \u001b[0;36mMetricsCalculator.head\u001b[0;34m(self, n_rows, domain_kwargs, fetch_all)\u001b[0m\n\u001b[1;32m    103\u001b[0m \u001b[38;5;28;01mif\u001b[39;00m domain_kwargs\u001b[38;5;241m.\u001b[39mget(\u001b[38;5;124m\"\u001b[39m\u001b[38;5;124mbatch_id\u001b[39m\u001b[38;5;124m\"\u001b[39m) \u001b[38;5;129;01mis\u001b[39;00m \u001b[38;5;28;01mNone\u001b[39;00m:\n\u001b[1;32m    104\u001b[0m     domain_kwargs[\n\u001b[1;32m    105\u001b[0m         \u001b[38;5;124m\"\u001b[39m\u001b[38;5;124mbatch_id\u001b[39m\u001b[38;5;124m\"\u001b[39m\n\u001b[1;32m    106\u001b[0m     ] \u001b[38;5;241m=\u001b[39m \u001b[38;5;28mself\u001b[39m\u001b[38;5;241m.\u001b[39m_execution_engine\u001b[38;5;241m.\u001b[39mbatch_manager\u001b[38;5;241m.\u001b[39mactive_batch_id\n\u001b[0;32m--> 108\u001b[0m df: pd\u001b[38;5;241m.\u001b[39mDataFrame \u001b[38;5;241m=\u001b[39m \u001b[38;5;28;43mself\u001b[39;49m\u001b[38;5;241;43m.\u001b[39;49m\u001b[43mget_metric\u001b[49m\u001b[43m(\u001b[49m\n\u001b[1;32m    109\u001b[0m \u001b[43m    \u001b[49m\u001b[43mmetric\u001b[49m\u001b[38;5;241;43m=\u001b[39;49m\u001b[43mMetricConfiguration\u001b[49m\u001b[43m(\u001b[49m\n\u001b[1;32m    110\u001b[0m \u001b[43m        \u001b[49m\u001b[43mmetric_name\u001b[49m\u001b[38;5;241;43m=\u001b[39;49m\u001b[38;5;124;43m\"\u001b[39;49m\u001b[38;5;124;43mtable.head\u001b[39;49m\u001b[38;5;124;43m\"\u001b[39;49m\u001b[43m,\u001b[49m\n\u001b[1;32m    111\u001b[0m \u001b[43m        \u001b[49m\u001b[43mmetric_domain_kwargs\u001b[49m\u001b[38;5;241;43m=\u001b[39;49m\u001b[43mdomain_kwargs\u001b[49m\u001b[43m,\u001b[49m\n\u001b[1;32m    112\u001b[0m \u001b[43m        \u001b[49m\u001b[43mmetric_value_kwargs\u001b[49m\u001b[38;5;241;43m=\u001b[39;49m\u001b[43m{\u001b[49m\n\u001b[1;32m    113\u001b[0m \u001b[43m            \u001b[49m\u001b[38;5;124;43m\"\u001b[39;49m\u001b[38;5;124;43mn_rows\u001b[39;49m\u001b[38;5;124;43m\"\u001b[39;49m\u001b[43m:\u001b[49m\u001b[43m \u001b[49m\u001b[43mn_rows\u001b[49m\u001b[43m,\u001b[49m\n\u001b[1;32m    114\u001b[0m \u001b[43m            \u001b[49m\u001b[38;5;124;43m\"\u001b[39;49m\u001b[38;5;124;43mfetch_all\u001b[39;49m\u001b[38;5;124;43m\"\u001b[39;49m\u001b[43m:\u001b[49m\u001b[43m \u001b[49m\u001b[43mfetch_all\u001b[49m\u001b[43m,\u001b[49m\n\u001b[1;32m    115\u001b[0m \u001b[43m        \u001b[49m\u001b[43m}\u001b[49m\u001b[43m,\u001b[49m\n\u001b[1;32m    116\u001b[0m \u001b[43m    \u001b[49m\u001b[43m)\u001b[49m\n\u001b[1;32m    117\u001b[0m \u001b[43m\u001b[49m\u001b[43m)\u001b[49m\n\u001b[1;32m    119\u001b[0m \u001b[38;5;28;01mreturn\u001b[39;00m df\u001b[38;5;241m.\u001b[39mreset_index(drop\u001b[38;5;241m=\u001b[39m\u001b[38;5;28;01mTrue\u001b[39;00m, inplace\u001b[38;5;241m=\u001b[39m\u001b[38;5;28;01mFalse\u001b[39;00m)\n",
      "File \u001b[0;32m~/Documents/repos/oristides/NYC_Taxi_Data_Pipeline/.venv/lib/python3.12/site-packages/great_expectations/validator/metrics_calculator.py:126\u001b[0m, in \u001b[0;36mMetricsCalculator.get_metric\u001b[0;34m(self, metric)\u001b[0m\n\u001b[1;32m    121\u001b[0m \u001b[38;5;28;01mdef\u001b[39;00m \u001b[38;5;21mget_metric\u001b[39m(\n\u001b[1;32m    122\u001b[0m     \u001b[38;5;28mself\u001b[39m,\n\u001b[1;32m    123\u001b[0m     metric: MetricConfiguration,\n\u001b[1;32m    124\u001b[0m ) \u001b[38;5;241m-\u001b[39m\u001b[38;5;241m>\u001b[39m Any:\n\u001b[1;32m    125\u001b[0m \u001b[38;5;250m    \u001b[39m\u001b[38;5;124;03m\"\"\"return the value of the requested metric.\"\"\"\u001b[39;00m\n\u001b[0;32m--> 126\u001b[0m     \u001b[38;5;28;01mreturn\u001b[39;00m \u001b[38;5;28;43mself\u001b[39;49m\u001b[38;5;241;43m.\u001b[39;49m\u001b[43mget_metrics\u001b[49m\u001b[43m(\u001b[49m\n\u001b[1;32m    127\u001b[0m \u001b[43m        \u001b[49m\u001b[43mmetrics\u001b[49m\u001b[38;5;241;43m=\u001b[39;49m\u001b[43m{\u001b[49m\u001b[43mmetric\u001b[49m\u001b[38;5;241;43m.\u001b[39;49m\u001b[43mmetric_name\u001b[49m\u001b[43m:\u001b[49m\u001b[43m \u001b[49m\u001b[43mmetric\u001b[49m\u001b[43m}\u001b[49m\u001b[43m,\u001b[49m\n\u001b[1;32m    128\u001b[0m \u001b[43m    \u001b[49m\u001b[43m)\u001b[49m[metric\u001b[38;5;241m.\u001b[39mmetric_name]\n",
      "File \u001b[0;32m~/Documents/repos/oristides/NYC_Taxi_Data_Pipeline/.venv/lib/python3.12/site-packages/great_expectations/validator/metrics_calculator.py:148\u001b[0m, in \u001b[0;36mMetricsCalculator.get_metrics\u001b[0;34m(self, metrics)\u001b[0m\n\u001b[1;32m    141\u001b[0m resolved_metrics: _MetricsDict\n\u001b[1;32m    142\u001b[0m resolved_metrics, _ \u001b[38;5;241m=\u001b[39m \u001b[38;5;28mself\u001b[39m\u001b[38;5;241m.\u001b[39mcompute_metrics(\n\u001b[1;32m    143\u001b[0m     metric_configurations\u001b[38;5;241m=\u001b[39m\u001b[38;5;28mlist\u001b[39m(metrics\u001b[38;5;241m.\u001b[39mvalues()),\n\u001b[1;32m    144\u001b[0m     runtime_configuration\u001b[38;5;241m=\u001b[39m\u001b[38;5;28;01mNone\u001b[39;00m,\n\u001b[1;32m    145\u001b[0m     min_graph_edges_pbar_enable\u001b[38;5;241m=\u001b[39m\u001b[38;5;241m0\u001b[39m,\n\u001b[1;32m    146\u001b[0m )\n\u001b[1;32m    147\u001b[0m \u001b[38;5;28;01mreturn\u001b[39;00m {\n\u001b[0;32m--> 148\u001b[0m     metric_configuration\u001b[38;5;241m.\u001b[39mmetric_name: \u001b[43mresolved_metrics\u001b[49m\u001b[43m[\u001b[49m\u001b[43mmetric_configuration\u001b[49m\u001b[38;5;241;43m.\u001b[39;49m\u001b[43mid\u001b[49m\u001b[43m]\u001b[49m\n\u001b[1;32m    149\u001b[0m     \u001b[38;5;28;01mfor\u001b[39;00m metric_configuration \u001b[38;5;129;01min\u001b[39;00m metrics\u001b[38;5;241m.\u001b[39mvalues()\n\u001b[1;32m    150\u001b[0m }\n",
      "\u001b[0;31mKeyError\u001b[0m: ('table.head', 'batch_id=nyctaxi-postgres_taxi_data', '04166707abe073177c1dd922d3584468')"
     ]
    }
   ],
   "source": [
    "\n",
    "validator = context.get_validator(\n",
    "    batch_request=batch_request,\n",
    "    expectation_suite_name=expectation_suite_name,\n",
    ")\n",
    "\n",
    "#print(validator.head())"
   ]
  },
  {
   "cell_type": "code",
   "execution_count": 8,
   "metadata": {},
   "outputs": [
    {
     "data": {
      "application/vnd.jupyter.widget-view+json": {
       "model_id": "b70d0f0da87e4286abc14a7d22555ece",
       "version_major": 2,
       "version_minor": 0
      },
      "text/plain": [
       "Calculating Metrics:   0%|          | 0/8 [00:00<?, ?it/s]"
      ]
     },
     "metadata": {},
     "output_type": "display_data"
    },
    {
     "data": {
      "application/vnd.jupyter.widget-view+json": {
       "model_id": "4e05b1068f3f4b30bf650ea1d8dbb766",
       "version_major": 2,
       "version_minor": 0
      },
      "text/plain": [
       "Calculating Metrics:   0%|          | 0/8 [00:00<?, ?it/s]"
      ]
     },
     "metadata": {},
     "output_type": "display_data"
    },
    {
     "data": {
      "application/vnd.jupyter.widget-view+json": {
       "model_id": "a737c81a1b9d440d82bcbf05266a7cbd",
       "version_major": 2,
       "version_minor": 0
      },
      "text/plain": [
       "Calculating Metrics:   0%|          | 0/8 [00:00<?, ?it/s]"
      ]
     },
     "metadata": {},
     "output_type": "display_data"
    },
    {
     "data": {
      "application/vnd.jupyter.widget-view+json": {
       "model_id": "cde6053a12704e328fc53fc7f8b04ab5",
       "version_major": 2,
       "version_minor": 0
      },
      "text/plain": [
       "Calculating Metrics:   0%|          | 0/8 [00:00<?, ?it/s]"
      ]
     },
     "metadata": {},
     "output_type": "display_data"
    },
    {
     "data": {
      "application/vnd.jupyter.widget-view+json": {
       "model_id": "fab335360c21430384e4780bd91cee7a",
       "version_major": 2,
       "version_minor": 0
      },
      "text/plain": [
       "Calculating Metrics:   0%|          | 0/8 [00:00<?, ?it/s]"
      ]
     },
     "metadata": {},
     "output_type": "display_data"
    },
    {
     "data": {
      "application/vnd.jupyter.widget-view+json": {
       "model_id": "f52ea5260e18495c8e2fbb11ac7ff654",
       "version_major": 2,
       "version_minor": 0
      },
      "text/plain": [
       "Calculating Metrics:   0%|          | 0/8 [00:00<?, ?it/s]"
      ]
     },
     "metadata": {},
     "output_type": "display_data"
    },
    {
     "data": {
      "application/vnd.jupyter.widget-view+json": {
       "model_id": "63fe200042b142aea1dd9eeab602bc02",
       "version_major": 2,
       "version_minor": 0
      },
      "text/plain": [
       "Calculating Metrics:   0%|          | 0/8 [00:00<?, ?it/s]"
      ]
     },
     "metadata": {},
     "output_type": "display_data"
    },
    {
     "data": {
      "application/vnd.jupyter.widget-view+json": {
       "model_id": "8f664a51498842b2a2e397e563a53553",
       "version_major": 2,
       "version_minor": 0
      },
      "text/plain": [
       "Calculating Metrics:   0%|          | 0/8 [00:00<?, ?it/s]"
      ]
     },
     "metadata": {},
     "output_type": "display_data"
    },
    {
     "data": {
      "application/vnd.jupyter.widget-view+json": {
       "model_id": "cb59dddf9ae5463ca692bd09dc3cf700",
       "version_major": 2,
       "version_minor": 0
      },
      "text/plain": [
       "Calculating Metrics:   0%|          | 0/8 [00:00<?, ?it/s]"
      ]
     },
     "metadata": {},
     "output_type": "display_data"
    },
    {
     "data": {
      "application/vnd.jupyter.widget-view+json": {
       "model_id": "2faabf23e9f24c0d82f7795c2545c7f4",
       "version_major": 2,
       "version_minor": 0
      },
      "text/plain": [
       "Calculating Metrics:   0%|          | 0/8 [00:00<?, ?it/s]"
      ]
     },
     "metadata": {},
     "output_type": "display_data"
    },
    {
     "data": {
      "application/vnd.jupyter.widget-view+json": {
       "model_id": "4221aec1fe184c00a340b09340c034ca",
       "version_major": 2,
       "version_minor": 0
      },
      "text/plain": [
       "Calculating Metrics:   0%|          | 0/11 [00:00<?, ?it/s]"
      ]
     },
     "metadata": {},
     "output_type": "display_data"
    },
    {
     "data": {
      "application/vnd.jupyter.widget-view+json": {
       "model_id": "700a44f62a4c4e95969d33fdf7b74555",
       "version_major": 2,
       "version_minor": 0
      },
      "text/plain": [
       "Calculating Metrics:   0%|          | 0/11 [00:00<?, ?it/s]"
      ]
     },
     "metadata": {},
     "output_type": "display_data"
    }
   ],
   "source": [
    "# Add the same expectations as the single-file\n",
    "validator.expect_column_values_to_not_be_null(\"vendor_id\")\n",
    "validator.expect_column_values_to_not_be_null(\"rate_code_id\")\n",
    "validator.expect_column_values_to_not_be_null(\"dropoff_location_id\")\n",
    "validator.expect_column_values_to_not_be_null(\"pickup_location_id\")\n",
    "validator.expect_column_values_to_not_be_null(\"payment_type_id\")\n",
    "validator.expect_column_values_to_not_be_null(\"service_type\")\n",
    "validator.expect_column_values_to_not_be_null(\"pickup_latitude\")\n",
    "validator.expect_column_values_to_not_be_null(\"pickup_longitude\")\n",
    "validator.expect_column_values_to_not_be_null(\"dropoff_latitude\")\n",
    "validator.expect_column_values_to_not_be_null(\"dropoff_longitude\")\n",
    "validator.expect_column_values_to_be_between(\"trip_distance\", min_value=0, max_value=100)\n",
    "validator.expect_column_values_to_be_between(\"extra\", min_value=0, max_value=3)\n",
    "\n",
    "validator.save_expectation_suite(discard_failed_expectations=False)"
   ]
  },
  {
   "cell_type": "code",
   "execution_count": 9,
   "metadata": {},
   "outputs": [
    {
     "data": {
      "application/vnd.jupyter.widget-view+json": {
       "model_id": "043f9982380a40c88ba850ba9f271f0b",
       "version_major": 2,
       "version_minor": 0
      },
      "text/plain": [
       "Calculating Metrics:   0%|          | 0/82 [00:00<?, ?it/s]"
      ]
     },
     "metadata": {},
     "output_type": "display_data"
    }
   ],
   "source": [
    "# Similar to a single file, create a checkpoint to validate the result\n",
    "# Define the checkpoint\n",
    "checkpoint = context.add_or_update_checkpoint(\n",
    "    name=\"staging_tripdata_asset_checkpoint\",\n",
    "    validator=validator\n",
    ")\n",
    "\n",
    "# Get the result after validator\n",
    "checkpoint_result = checkpoint.run()\n",
    "\n",
    "# Quick view on the validation result\n",
    "context.view_validation_result(checkpoint_result)"
   ]
  },
  {
   "cell_type": "code",
   "execution_count": null,
   "metadata": {},
   "outputs": [],
   "source": []
  }
 ],
 "metadata": {
  "kernelspec": {
   "display_name": "bigdata",
   "language": "python",
   "name": "python3"
  },
  "language_info": {
   "codemirror_mode": {
    "name": "ipython",
    "version": 3
   },
   "file_extension": ".py",
   "mimetype": "text/x-python",
   "name": "python",
   "nbconvert_exporter": "python",
   "pygments_lexer": "ipython3",
   "version": "3.12.3"
  }
 },
 "nbformat": 4,
 "nbformat_minor": 2
}
